{
 "cells": [
  {
   "cell_type": "code",
   "execution_count": 1,
   "metadata": {},
   "outputs": [],
   "source": [
    "import query\n",
    "import pandas as pd"
   ]
  },
  {
   "cell_type": "code",
   "execution_count": 9,
   "metadata": {},
   "outputs": [
    {
     "name": "stdout",
     "output_type": "stream",
     "text": [
      "<class 'pandas.core.frame.DataFrame'>\n",
      "RangeIndex: 394 entries, 0 to 393\n",
      "Data columns (total 9 columns):\n",
      " #   Column            Non-Null Count  Dtype \n",
      "---  ------            --------------  ----- \n",
      " 0   date              394 non-null    object\n",
      " 1   scan_id           394 non-null    int64 \n",
      " 2   item_id           394 non-null    int64 \n",
      " 3   market_value      394 non-null    int64 \n",
      " 4   historical_value  394 non-null    int64 \n",
      " 5   min_buyout        394 non-null    int64 \n",
      " 6   num_auctions      394 non-null    int64 \n",
      " 7   quantity          394 non-null    int64 \n",
      " 8   slug              394 non-null    object\n",
      "dtypes: int64(7), object(2)\n",
      "memory usage: 27.8+ KB\n"
     ]
    }
   ],
   "source": [
    "flasks = [\n",
    "    'Flask of the Titans',\n",
    "    'Flask of Distilled Wisdom',\n",
    "    'Flask of Supreme Power',\n",
    "    'Flask of Chromatic Resistance'\n",
    "]\n",
    "\n",
    "blotus_df = query.get_historical_df(\"Black Lotus\")\n",
    "#titans_df = query.get_historical_df(flasks[0])\n",
    "#wisdom_df = query.get_historical_df(flasks[1])\n",
    "#power_df = query.get_historical_df(flasks[2])\n",
    "#resist_df = query.get_historical_df(flasks[3])['dataframe']\n",
    "#blotus_df = (blotus_df/100)/100\n",
    "#titans_df = (titans_df/100)/100\n",
    "#wisdom_df = (wisdom_df/100)/100\n",
    "#power_df = (power_df/100)/100\n",
    "blotus_df.info()"
   ]
  },
  {
   "cell_type": "code",
   "execution_count": 8,
   "metadata": {},
   "outputs": [
    {
     "ename": "TypeError",
     "evalue": "Only valid with DatetimeIndex, TimedeltaIndex or PeriodIndex, but got an instance of 'RangeIndex'",
     "output_type": "error",
     "traceback": [
      "\u001b[0;31m---------------------------------------------------------------------------\u001b[0m",
      "\u001b[0;31mTypeError\u001b[0m                                 Traceback (most recent call last)",
      "\u001b[0;32m<ipython-input-8-802fe33bdeff>\u001b[0m in \u001b[0;36m<module>\u001b[0;34m\u001b[0m\n\u001b[1;32m      3\u001b[0m \u001b[0;31m#resist_df = (resist_df/100)/100\u001b[0m\u001b[0;34m\u001b[0m\u001b[0;34m\u001b[0m\u001b[0;34m\u001b[0m\u001b[0m\n\u001b[1;32m      4\u001b[0m \u001b[0;34m\u001b[0m\u001b[0m\n\u001b[0;32m----> 5\u001b[0;31m \u001b[0mblotus_df\u001b[0m\u001b[0;34m.\u001b[0m\u001b[0mmarket_value\u001b[0m\u001b[0;34m.\u001b[0m\u001b[0mresample\u001b[0m\u001b[0;34m(\u001b[0m\u001b[0;34m'6H'\u001b[0m\u001b[0;34m)\u001b[0m\u001b[0;34m.\u001b[0m\u001b[0mmean\u001b[0m\u001b[0;34m(\u001b[0m\u001b[0;34m)\u001b[0m\u001b[0;34m.\u001b[0m\u001b[0mplot\u001b[0m\u001b[0;34m(\u001b[0m\u001b[0mtitle\u001b[0m\u001b[0;34m=\u001b[0m\u001b[0;34m\"Black Lotus Market Value over time\"\u001b[0m\u001b[0;34m,\u001b[0m \u001b[0my\u001b[0m\u001b[0;34m=\u001b[0m\u001b[0;34m[\u001b[0m\u001b[0;34m'market_value'\u001b[0m\u001b[0;34m]\u001b[0m\u001b[0;34m,\u001b[0m \u001b[0mylabel\u001b[0m\u001b[0;34m=\u001b[0m\u001b[0;34m'Gold'\u001b[0m\u001b[0;34m,\u001b[0m \u001b[0mfigsize\u001b[0m\u001b[0;34m=\u001b[0m\u001b[0mfigsize\u001b[0m\u001b[0;34m,\u001b[0m \u001b[0mgrid\u001b[0m\u001b[0;34m=\u001b[0m\u001b[0;32mTrue\u001b[0m\u001b[0;34m)\u001b[0m\u001b[0;34m\u001b[0m\u001b[0;34m\u001b[0m\u001b[0m\n\u001b[0m\u001b[1;32m      6\u001b[0m \u001b[0;31m#titans_df.market_value.resample('6H').mean().plot(title=str(flasks[0] + \" Market Value over time\"), y=['market_value'], ylabel='Gold', figsize=figsize, grid=True)\u001b[0m\u001b[0;34m\u001b[0m\u001b[0;34m\u001b[0m\u001b[0;34m\u001b[0m\u001b[0m\n\u001b[1;32m      7\u001b[0m \u001b[0;31m#wisdom_df.market_value.resample('6H').mean().plot(title=str(flasks[1] + \" Market Value over time\"), y=['market_value'], ylabel='Gold', figsize=figsize, grid=True)\u001b[0m\u001b[0;34m\u001b[0m\u001b[0;34m\u001b[0m\u001b[0;34m\u001b[0m\u001b[0m\n",
      "\u001b[0;32m/usr/local/lib/python3.8/dist-packages/pandas/core/generic.py\u001b[0m in \u001b[0;36mresample\u001b[0;34m(self, rule, axis, closed, label, convention, kind, loffset, base, on, level, origin, offset)\u001b[0m\n\u001b[1;32m   8075\u001b[0m \u001b[0;34m\u001b[0m\u001b[0m\n\u001b[1;32m   8076\u001b[0m         \u001b[0maxis\u001b[0m \u001b[0;34m=\u001b[0m \u001b[0mself\u001b[0m\u001b[0;34m.\u001b[0m\u001b[0m_get_axis_number\u001b[0m\u001b[0;34m(\u001b[0m\u001b[0maxis\u001b[0m\u001b[0;34m)\u001b[0m\u001b[0;34m\u001b[0m\u001b[0;34m\u001b[0m\u001b[0m\n\u001b[0;32m-> 8077\u001b[0;31m         return get_resampler(\n\u001b[0m\u001b[1;32m   8078\u001b[0m             \u001b[0mself\u001b[0m\u001b[0;34m,\u001b[0m\u001b[0;34m\u001b[0m\u001b[0;34m\u001b[0m\u001b[0m\n\u001b[1;32m   8079\u001b[0m             \u001b[0mfreq\u001b[0m\u001b[0;34m=\u001b[0m\u001b[0mrule\u001b[0m\u001b[0;34m,\u001b[0m\u001b[0;34m\u001b[0m\u001b[0;34m\u001b[0m\u001b[0m\n",
      "\u001b[0;32m/usr/local/lib/python3.8/dist-packages/pandas/core/resample.py\u001b[0m in \u001b[0;36mget_resampler\u001b[0;34m(obj, kind, **kwds)\u001b[0m\n\u001b[1;32m   1268\u001b[0m     \"\"\"\n\u001b[1;32m   1269\u001b[0m     \u001b[0mtg\u001b[0m \u001b[0;34m=\u001b[0m \u001b[0mTimeGrouper\u001b[0m\u001b[0;34m(\u001b[0m\u001b[0;34m**\u001b[0m\u001b[0mkwds\u001b[0m\u001b[0;34m)\u001b[0m\u001b[0;34m\u001b[0m\u001b[0;34m\u001b[0m\u001b[0m\n\u001b[0;32m-> 1270\u001b[0;31m     \u001b[0;32mreturn\u001b[0m \u001b[0mtg\u001b[0m\u001b[0;34m.\u001b[0m\u001b[0m_get_resampler\u001b[0m\u001b[0;34m(\u001b[0m\u001b[0mobj\u001b[0m\u001b[0;34m,\u001b[0m \u001b[0mkind\u001b[0m\u001b[0;34m=\u001b[0m\u001b[0mkind\u001b[0m\u001b[0;34m)\u001b[0m\u001b[0;34m\u001b[0m\u001b[0;34m\u001b[0m\u001b[0m\n\u001b[0m\u001b[1;32m   1271\u001b[0m \u001b[0;34m\u001b[0m\u001b[0m\n\u001b[1;32m   1272\u001b[0m \u001b[0;34m\u001b[0m\u001b[0m\n",
      "\u001b[0;32m/usr/local/lib/python3.8/dist-packages/pandas/core/resample.py\u001b[0m in \u001b[0;36m_get_resampler\u001b[0;34m(self, obj, kind)\u001b[0m\n\u001b[1;32m   1433\u001b[0m             \u001b[0;32mreturn\u001b[0m \u001b[0mTimedeltaIndexResampler\u001b[0m\u001b[0;34m(\u001b[0m\u001b[0mobj\u001b[0m\u001b[0;34m,\u001b[0m \u001b[0mgroupby\u001b[0m\u001b[0;34m=\u001b[0m\u001b[0mself\u001b[0m\u001b[0;34m,\u001b[0m \u001b[0maxis\u001b[0m\u001b[0;34m=\u001b[0m\u001b[0mself\u001b[0m\u001b[0;34m.\u001b[0m\u001b[0maxis\u001b[0m\u001b[0;34m)\u001b[0m\u001b[0;34m\u001b[0m\u001b[0;34m\u001b[0m\u001b[0m\n\u001b[1;32m   1434\u001b[0m \u001b[0;34m\u001b[0m\u001b[0m\n\u001b[0;32m-> 1435\u001b[0;31m         raise TypeError(\n\u001b[0m\u001b[1;32m   1436\u001b[0m             \u001b[0;34m\"Only valid with DatetimeIndex, \"\u001b[0m\u001b[0;34m\u001b[0m\u001b[0;34m\u001b[0m\u001b[0m\n\u001b[1;32m   1437\u001b[0m             \u001b[0;34m\"TimedeltaIndex or PeriodIndex, \"\u001b[0m\u001b[0;34m\u001b[0m\u001b[0;34m\u001b[0m\u001b[0m\n",
      "\u001b[0;31mTypeError\u001b[0m: Only valid with DatetimeIndex, TimedeltaIndex or PeriodIndex, but got an instance of 'RangeIndex'"
     ]
    }
   ],
   "source": [
    "figsize = (12, 6)\n",
    "\n",
    "#resist_df = (resist_df/100)/100\n",
    "\n",
    "blotus_df.market_value.resample('6H').mean().plot(title=\"Black Lotus Market Value over time\", y=['market_value'], ylabel='Gold', figsize=figsize, grid=True)\n",
    "#titans_df.market_value.resample('6H').mean().plot(title=str(flasks[0] + \" Market Value over time\"), y=['market_value'], ylabel='Gold', figsize=figsize, grid=True)\n",
    "#wisdom_df.market_value.resample('6H').mean().plot(title=str(flasks[1] + \" Market Value over time\"), y=['market_value'], ylabel='Gold', figsize=figsize, grid=True)\n",
    "#power_df.market_value.resample('6H').mean().plot(title=str(flasks[2] + \" Market Value over time\"), y=['market_value'], ylabel='Gold', figsize=figsize, grid=True)\n",
    "#resist_df.plot(title=str(flasks[3] + \" Market Value over time\"), y=['marketValue'], ylabel='Gold', figsize=figsize, grid=True)\n"
   ]
  },
  {
   "cell_type": "code",
   "execution_count": null,
   "metadata": {},
   "outputs": [],
   "source": []
  }
 ],
 "metadata": {
  "kernelspec": {
   "display_name": "Python 3",
   "language": "python",
   "name": "python3"
  },
  "language_info": {
   "codemirror_mode": {
    "name": "ipython",
    "version": 3
   },
   "file_extension": ".py",
   "mimetype": "text/x-python",
   "name": "python",
   "nbconvert_exporter": "python",
   "pygments_lexer": "ipython3",
   "version": "3.8.5"
  }
 },
 "nbformat": 4,
 "nbformat_minor": 4
}
